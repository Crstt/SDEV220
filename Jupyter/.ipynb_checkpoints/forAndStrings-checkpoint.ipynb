{
 "cells": [
  {
   "cell_type": "code",
   "execution_count": 1,
   "id": "bbbc12a8-1497-4085-8911-1176015c4db4",
   "metadata": {},
   "outputs": [
    {
     "name": "stdout",
     "output_type": "stream",
     "text": [
      "1,954,365.00\n",
      "1,983,680.47\n",
      "2,013,435.68\n",
      "2,043,637.22\n",
      "2,074,291.78\n",
      "2,105,406.15\n",
      "2,136,987.24\n",
      "2,169,042.05\n",
      "2,201,577.68\n",
      "2,234,601.35\n",
      "2,268,120.37\n",
      "2,302,142.18\n"
     ]
    }
   ],
   "source": [
    "# SDEV 220 - forAndStrings.py - M02 Class Activity 2\n",
    "# Catalano Matteo\n",
    "# 29/03/2023\n",
    "# Illustrates the use of a for loop and formatting of floating point numbers.\n",
    "# \n",
    "\n",
    "balance = 1954365\n",
    "#assume a growth rate of 1.5% per period\n",
    "for i in range(1,13):\n",
    "    print(f\"{balance:,.2f}\")\n",
    "    balance = balance * 1.015"
   ]
  },
  {
   "cell_type": "code",
   "execution_count": null,
   "id": "0421ca91-5510-4ab4-9abc-f6f222a2a33c",
   "metadata": {},
   "outputs": [],
   "source": []
  }
 ],
 "metadata": {
  "kernelspec": {
   "display_name": "Python 3 (ipykernel)",
   "language": "python",
   "name": "python3"
  },
  "language_info": {
   "codemirror_mode": {
    "name": "ipython",
    "version": 3
   },
   "file_extension": ".py",
   "mimetype": "text/x-python",
   "name": "python",
   "nbconvert_exporter": "python",
   "pygments_lexer": "ipython3",
   "version": "3.9.13"
  }
 },
 "nbformat": 4,
 "nbformat_minor": 5
}
