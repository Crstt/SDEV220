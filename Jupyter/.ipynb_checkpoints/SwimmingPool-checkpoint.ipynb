{
 "cells": [
  {
   "cell_type": "code",
   "execution_count": 3,
   "id": "1d8e42a7-8ce2-4109-8716-2856f353748d",
   "metadata": {},
   "outputs": [
    {
     "ename": "SyntaxError",
     "evalue": "invalid syntax (3406535166.py, line 5)",
     "output_type": "error",
     "traceback": [
      "\u001b[1;36m  File \u001b[1;32m\"C:\\Users\\MatteoPC\\AppData\\Local\\Temp\\ipykernel_13668\\3406535166.py\"\u001b[1;36m, line \u001b[1;32m5\u001b[0m\n\u001b[1;33m    w = float(input(\"Enter the width of the rectangular pool\")\u001b[0m\n\u001b[1;37m    ^\u001b[0m\n\u001b[1;31mSyntaxError\u001b[0m\u001b[1;31m:\u001b[0m invalid syntax\n"
     ]
    }
   ],
   "source": [
    "print(\"Calculate the area of rectangular and a circular swimming pool\")\n",
    "pi = 3.14\n",
    "\n",
    "l = float(input(\"Enter the lenght of the rectangular pool\"))\n",
    "w = float(input(\"Enter the width of the rectangular pool\"))\n",
    "a = l*w\n",
    "print(\"The area of a rectangular swimming pool with lenght of\", l, \"and a width of\", w, \"is\", a)\n",
    "\n",
    "d = float(input(\"Enter the diameter of the circular pool\"))\n",
    "r = d/2\n",
    "a = pi*r**2\n",
    "print(\"The area of a circular swimming pool with diameter\", d, \"is\", a)"
   ]
  },
  {
   "cell_type": "code",
   "execution_count": null,
   "id": "076c5af2-293c-41fb-82cd-ea8546257ae8",
   "metadata": {},
   "outputs": [],
   "source": []
  }
 ],
 "metadata": {
  "kernelspec": {
   "display_name": "Python 3 (ipykernel)",
   "language": "python",
   "name": "python3"
  },
  "language_info": {
   "codemirror_mode": {
    "name": "ipython",
    "version": 3
   },
   "file_extension": ".py",
   "mimetype": "text/x-python",
   "name": "python",
   "nbconvert_exporter": "python",
   "pygments_lexer": "ipython3",
   "version": "3.9.13"
  }
 },
 "nbformat": 4,
 "nbformat_minor": 5
}
