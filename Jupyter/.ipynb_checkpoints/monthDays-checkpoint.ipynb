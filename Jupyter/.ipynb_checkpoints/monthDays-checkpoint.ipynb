{
 "cells": [
  {
   "cell_type": "code",
   "execution_count": 2,
   "id": "92860152-a69f-4916-9c24-06cf502d90b3",
   "metadata": {},
   "outputs": [
    {
     "name": "stdin",
     "output_type": "stream",
     "text": [
      "is this a year a leap year? (Y/N) y\n"
     ]
    },
    {
     "name": "stdout",
     "output_type": "stream",
     "text": [
      "The numbers of days for each month this yaer are:\n",
      "\n",
      "January has 31 days.\n",
      "February has 29 days.\n",
      "March has 31 days.\n",
      "April has 30 days.\n",
      "May has 31 days.\n",
      "June has 30 days.\n",
      "July has 31 days.\n",
      "August has 31 days.\n",
      "September has 30 days.\n",
      "October has 31 days.\n",
      "November has 30 days.\n",
      "December has 31 days.\n"
     ]
    }
   ],
   "source": [
    "# This program print the months of the year and\n",
    "# the corresponding number of days for each month\n",
    "\n",
    "months = ['January', 'February', 'March', 'April', 'May', 'June', 'July', 'August', 'September', 'October', 'November', 'December']\n",
    "daysPerMonth = [31, 28, 31, 30, 31, 30, 31, 31, 30, 31, 30, 31]\n",
    "leapYear = input(\"is this a year a leap year? (Y/N)\").upper()\n",
    "if leapYear == \"Y\":\n",
    "    daysPerMonth[1] += 1\n",
    "print(\"The numbers of days for each month this yaer are:\")\n",
    "print()\n",
    "for i in range(0,12):\n",
    "    print(months[i], \"has\", daysPerMonth[i], \"days.\")\n"
   ]
  }
 ],
 "metadata": {
  "kernelspec": {
   "display_name": "Python 3 (ipykernel)",
   "language": "python",
   "name": "python3"
  },
  "language_info": {
   "codemirror_mode": {
    "name": "ipython",
    "version": 3
   },
   "file_extension": ".py",
   "mimetype": "text/x-python",
   "name": "python",
   "nbconvert_exporter": "python",
   "pygments_lexer": "ipython3",
   "version": "3.9.13"
  }
 },
 "nbformat": 4,
 "nbformat_minor": 5
}
