{
 "cells": [
  {
   "cell_type": "code",
   "execution_count": 1,
   "id": "acc924b1-2528-40d5-8800-5cfac3bdd705",
   "metadata": {},
   "outputs": [
    {
     "name": "stdout",
     "output_type": "stream",
     "text": [
      "You got 76.67% correct\n"
     ]
    }
   ],
   "source": [
    "# SDEV 220 - quizGrades.py - M02 Class Activity 2\n",
    "# Catalano Matteo\n",
    "# 29/03/2023\n",
    "# Illustrates how you can include a calculation whitin a 'f' string\n",
    "# \n",
    "\n",
    "questions = 30\n",
    "correct_answers = 23\n",
    "print(f\"You got {correct_answers/questions :.2%} correct!\")"
   ]
  }
 ],
 "metadata": {
  "kernelspec": {
   "display_name": "Python 3 (ipykernel)",
   "language": "python",
   "name": "python3"
  },
  "language_info": {
   "codemirror_mode": {
    "name": "ipython",
    "version": 3
   },
   "file_extension": ".py",
   "mimetype": "text/x-python",
   "name": "python",
   "nbconvert_exporter": "python",
   "pygments_lexer": "ipython3",
   "version": "3.9.13"
  }
 },
 "nbformat": 4,
 "nbformat_minor": 5
}
