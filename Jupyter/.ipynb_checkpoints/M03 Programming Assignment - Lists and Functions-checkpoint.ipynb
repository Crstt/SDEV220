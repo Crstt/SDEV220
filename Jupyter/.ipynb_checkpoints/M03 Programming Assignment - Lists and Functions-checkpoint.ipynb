{
 "cells": [
  {
   "cell_type": "code",
   "execution_count": 1,
   "id": "51782495-2df1-468b-87a2-0757ffd64c0b",
   "metadata": {},
   "outputs": [],
   "source": [
    "things = [\"mozzarella\", \"cinderella\", \"salmonella\"]"
   ]
  },
  {
   "cell_type": "code",
   "execution_count": 2,
   "id": "c220c3c3-43a7-43a1-9ae2-1181e1224b0d",
   "metadata": {},
   "outputs": [],
   "source": [
    "things[1] = things[1].capitalize()"
   ]
  },
  {
   "cell_type": "code",
   "execution_count": 3,
   "id": "d3822d58-2970-4436-91c5-3ac45b89422d",
   "metadata": {},
   "outputs": [
    {
     "name": "stdout",
     "output_type": "stream",
     "text": [
      "['mozzarella', 'Cinderella', 'salmonella']\n"
     ]
    }
   ],
   "source": [
    "print(things)"
   ]
  },
  {
   "cell_type": "code",
   "execution_count": 4,
   "id": "309f4076-ada2-4456-8904-fd00422e77a5",
   "metadata": {},
   "outputs": [],
   "source": [
    "# second element in the list (which refers to a person) has been capitalized."
   ]
  },
  {
   "cell_type": "code",
   "execution_count": 5,
   "id": "522223ec-16a4-4282-984b-694cf1b6c3f1",
   "metadata": {},
   "outputs": [
    {
     "name": "stdout",
     "output_type": "stream",
     "text": [
      "['MOZZARELLA', 'Cinderella', 'salmonella']\n"
     ]
    }
   ],
   "source": [
    "things[0] = things[0].upper()\n",
    "print(things)"
   ]
  },
  {
   "cell_type": "code",
   "execution_count": 6,
   "id": "1c3b2bf6-091b-45ef-a83c-b7f98c192cbd",
   "metadata": {},
   "outputs": [],
   "source": [
    "# the first element in the list (which refers to cheese) has been converted to all uppercase."
   ]
  },
  {
   "cell_type": "code",
   "execution_count": 7,
   "id": "16cfc700-9623-4694-a319-00549e99bd90",
   "metadata": {},
   "outputs": [
    {
     "name": "stdout",
     "output_type": "stream",
     "text": [
      "['MOZZARELLA', 'Cinderella']\n"
     ]
    }
   ],
   "source": [
    "del things[2]\n",
    "print(things)"
   ]
  },
  {
   "cell_type": "code",
   "execution_count": 8,
   "id": "c8cffbec-f182-49f9-a185-7fed23799070",
   "metadata": {},
   "outputs": [],
   "source": [
    "# the \"salmonella\" element has been removed from the list. "
   ]
  },
  {
   "cell_type": "code",
   "execution_count": 11,
   "id": "eb895486-0ab8-443f-9604-2fc5e51da213",
   "metadata": {},
   "outputs": [
    {
     "name": "stdout",
     "output_type": "stream",
     "text": [
      "['Harry', 'Ron', 'Hermione']\n"
     ]
    }
   ],
   "source": [
    "def good():\n",
    "    return ['Harry', 'Ron', 'Hermione']\n",
    "\n",
    "print(good())"
   ]
  },
  {
   "cell_type": "code",
   "execution_count": 12,
   "id": "a1fa8855-6172-4586-805d-cc47f6b1402d",
   "metadata": {},
   "outputs": [
    {
     "name": "stdout",
     "output_type": "stream",
     "text": [
      "The third odd number is: 5\n"
     ]
    }
   ],
   "source": [
    "def get_odds():\n",
    "    for num in range(1, 10, 2):\n",
    "        yield num\n",
    "        \n",
    "count = 1\n",
    "for odd_num in get_odds():\n",
    "    if count == 3:\n",
    "        print(\"The third odd number is:\", odd_num)\n",
    "        break\n",
    "    count += 1\n"
   ]
  }
 ],
 "metadata": {
  "kernelspec": {
   "display_name": "Python 3 (ipykernel)",
   "language": "python",
   "name": "python3"
  },
  "language_info": {
   "codemirror_mode": {
    "name": "ipython",
    "version": 3
   },
   "file_extension": ".py",
   "mimetype": "text/x-python",
   "name": "python",
   "nbconvert_exporter": "python",
   "pygments_lexer": "ipython3",
   "version": "3.9.13"
  }
 },
 "nbformat": 4,
 "nbformat_minor": 5
}
