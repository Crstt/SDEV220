{
 "cells": [
  {
   "cell_type": "code",
   "execution_count": 1,
   "id": "5f88fe73-519f-4721-a7c7-1a08baf94f2b",
   "metadata": {},
   "outputs": [
    {
     "name": "stdin",
     "output_type": "stream",
     "text": [
      "Guess the number between 1 and 10:  5\n"
     ]
    },
    {
     "name": "stdout",
     "output_type": "stream",
     "text": [
      "Too low\n"
     ]
    }
   ],
   "source": [
    "# Assign a secret number\n",
    "secret = 7\n",
    "\n",
    "# Get a guess from the user\n",
    "guess = int(input(\"Guess the number between 1 and 10: \"))\n",
    "\n",
    "# Check if the guess is too low, too high, or just right\n",
    "if guess < secret:\n",
    "    print(\"Too low\")\n",
    "elif guess > secret:\n",
    "    print(\"Too high\")\n",
    "else:\n",
    "    print(\"Just right\")\n"
   ]
  },
  {
   "cell_type": "code",
   "execution_count": 2,
   "id": "861e6a63-2c8c-49d8-8f70-ef48debc00d9",
   "metadata": {},
   "outputs": [
    {
     "name": "stdout",
     "output_type": "stream",
     "text": [
      "Cherry\n"
     ]
    }
   ],
   "source": [
    "# Assign values to variables small and green\n",
    "small = True\n",
    "green = False\n",
    "\n",
    "# Check which fruits/vegetables match the criteria\n",
    "if small and green:\n",
    "    print(\"Pea\")\n",
    "elif small and not green:\n",
    "    print(\"Cherry\")\n",
    "elif not small and green:\n",
    "    print(\"Watermelon\")\n",
    "else:\n",
    "    print(\"Pumpkin\")\n"
   ]
  },
  {
   "cell_type": "code",
   "execution_count": 3,
   "id": "aa62a2cc-8a6b-455e-97d6-f94c532d2aa4",
   "metadata": {},
   "outputs": [
    {
     "name": "stdout",
     "output_type": "stream",
     "text": [
      "3\n",
      "2\n",
      "1\n",
      "0\n"
     ]
    }
   ],
   "source": [
    "# Define the list\n",
    "my_list = [3, 2, 1, 0]\n",
    "\n",
    "# Loop through the list and print each value\n",
    "for value in my_list:\n",
    "    print(value)\n"
   ]
  },
  {
   "cell_type": "code",
   "execution_count": 4,
   "id": "43e8bd2d-096f-4d80-b2ce-29288bd0834f",
   "metadata": {},
   "outputs": [
    {
     "name": "stdout",
     "output_type": "stream",
     "text": [
      "too low\n",
      "too low\n",
      "too low\n",
      "too low\n",
      "too low\n",
      "too low\n",
      "found it!\n"
     ]
    }
   ],
   "source": [
    "# Assign values to variables guess_me and number\n",
    "guess_me = 7\n",
    "number = 1\n",
    "\n",
    "# Use a while loop to compare number with guess_me\n",
    "while number <= guess_me:\n",
    "    if number < guess_me:\n",
    "        print(\"too low\")\n",
    "    elif number == guess_me:\n",
    "        print(\"found it!\")\n",
    "        break\n",
    "    else:\n",
    "        print(\"oops\")\n",
    "        break\n",
    "    number += 1\n"
   ]
  },
  {
   "cell_type": "code",
   "execution_count": 5,
   "id": "470037df-644b-45b7-8ea2-1d971c405572",
   "metadata": {},
   "outputs": [
    {
     "name": "stdout",
     "output_type": "stream",
     "text": [
      "too low\n",
      "too low\n",
      "too low\n",
      "too low\n",
      "too low\n",
      "found it!\n"
     ]
    }
   ],
   "source": [
    "# Assign value to variable guess_me\n",
    "guess_me = 5\n",
    "\n",
    "# Use a for loop to iterate over range(10)\n",
    "for number in range(10):\n",
    "    if number < guess_me:\n",
    "        print(\"too low\")\n",
    "    elif number == guess_me:\n",
    "        print(\"found it!\")\n",
    "        break\n",
    "    else:\n",
    "        print(\"oops\")\n",
    "        break\n"
   ]
  }
 ],
 "metadata": {
  "kernelspec": {
   "display_name": "Python 3 (ipykernel)",
   "language": "python",
   "name": "python3"
  },
  "language_info": {
   "codemirror_mode": {
    "name": "ipython",
    "version": 3
   },
   "file_extension": ".py",
   "mimetype": "text/x-python",
   "name": "python",
   "nbconvert_exporter": "python",
   "pygments_lexer": "ipython3",
   "version": "3.9.13"
  }
 },
 "nbformat": 4,
 "nbformat_minor": 5
}
