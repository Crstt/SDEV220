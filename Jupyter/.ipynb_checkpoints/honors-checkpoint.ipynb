{
 "cells": [
  {
   "cell_type": "code",
   "execution_count": 2,
   "id": "90d8cf6e-489f-4a45-a980-54076f362994",
   "metadata": {},
   "outputs": [
    {
     "name": "stdin",
     "output_type": "stream",
     "text": [
      "Enter student's name: Jane Doe\n",
      "Enter student's GPA: 3.5\n"
     ]
    },
    {
     "name": "stdout",
     "output_type": "stream",
     "text": [
      "Jane Doe made the Dean's list with a GPA of 3.5\n"
     ]
    }
   ],
   "source": [
    "#honors.py\n",
    "\n",
    "#Prints out wether or not a student made the Dean's List.\n",
    "# a GPA of 3.5 or better is required to make the Dean's List.\n",
    "\n",
    "def deans(arg1,arg2):\n",
    "    if arg2>=3.5:\n",
    "        print(arg1, \"made the Dean's list with a GPA of\", arg2)\n",
    "    else:\n",
    "        print(arg1, \"did not make the Dean's list.\")\n",
    "        \n",
    "studentName = input(\"Enter student's name:\")\n",
    "gpa = float(input(\"Enter student's GPA:\"))\n",
    "\n",
    "#call the function\n",
    "deans(studentName, gpa)"
   ]
  }
 ],
 "metadata": {
  "kernelspec": {
   "display_name": "Python 3 (ipykernel)",
   "language": "python",
   "name": "python3"
  },
  "language_info": {
   "codemirror_mode": {
    "name": "ipython",
    "version": 3
   },
   "file_extension": ".py",
   "mimetype": "text/x-python",
   "name": "python",
   "nbconvert_exporter": "python",
   "pygments_lexer": "ipython3",
   "version": "3.9.13"
  }
 },
 "nbformat": 4,
 "nbformat_minor": 5
}
