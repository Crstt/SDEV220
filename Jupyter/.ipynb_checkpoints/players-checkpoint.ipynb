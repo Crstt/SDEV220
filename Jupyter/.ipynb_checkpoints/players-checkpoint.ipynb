{
 "cells": [
  {
   "cell_type": "code",
   "execution_count": 10,
   "id": "bbcef42d-3d2c-4c6a-a52c-2c3252c087cf",
   "metadata": {},
   "outputs": [
    {
     "name": "stdout",
     "output_type": "stream",
     "text": [
      "Shane Phillips       3b     .323\n",
      "Jorge Olivero        2b     .290\n",
      "Chen Ho Wong         ss     .298\n",
      "Ned Foster           1b     .305\n",
      "Tony Ramundo         c      .325\n"
     ]
    }
   ],
   "source": [
    "# Creates a list of baseball players by iterating over multiple sequences in parallel.\n",
    "\n",
    "players = ['Shane Phillips','Jorge Olivero','Chen Ho Wong','Ned Foster']\n",
    "positions = ['3b','2b','ss','1b']\n",
    "averages = ['.323','.290','.298','.305']\n",
    "\n",
    "players.append(\"Tony Ramundo\")\n",
    "positions.append(\"c\")\n",
    "averages.append(\".325\")\n",
    "\n",
    "for player, position, average in zip(players, positions, averages):\n",
    "    print(\"{: <20} {:<5} {:>5}\".format(player, position, average))"
   ]
  }
 ],
 "metadata": {
  "kernelspec": {
   "display_name": "Python 3 (ipykernel)",
   "language": "python",
   "name": "python3"
  },
  "language_info": {
   "codemirror_mode": {
    "name": "ipython",
    "version": 3
   },
   "file_extension": ".py",
   "mimetype": "text/x-python",
   "name": "python",
   "nbconvert_exporter": "python",
   "pygments_lexer": "ipython3",
   "version": "3.9.13"
  }
 },
 "nbformat": 4,
 "nbformat_minor": 5
}
