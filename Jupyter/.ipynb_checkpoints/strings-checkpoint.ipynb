{
 "cells": [
  {
   "cell_type": "code",
   "execution_count": 3,
   "id": "bbbc12a8-1497-4085-8911-1176015c4db4",
   "metadata": {},
   "outputs": [
    {
     "name": "stdout",
     "output_type": "stream",
     "text": [
      "have fun with Python\n",
      "\n",
      "LET'S HAVE FUN WITH PYTHON STRINGS!\n",
      "\n",
      "Let's have fun with \n",
      " other Python tricks as well!\n"
     ]
    }
   ],
   "source": [
    "# SDEV 220 - strings.py - M02 Class Activity 2\n",
    "# Catalano Matteo\n",
    "# 29/03/2023\n",
    "# Illustrates the use of a for loop and formatting of floating point numbers.\n",
    "# \n",
    "\n",
    "origString = \"Let's have fun with Python strings!\" \n",
    "newString = origString[6:26]\n",
    "print(newString)\n",
    "print()\n",
    "\n",
    "newString = origString.upper()\n",
    "print(newString)\n",
    "print ()\n",
    "\n",
    "print(\"Let's have fun with \\n other Python tricks as well!\")"
   ]
  }
 ],
 "metadata": {
  "kernelspec": {
   "display_name": "Python 3 (ipykernel)",
   "language": "python",
   "name": "python3"
  },
  "language_info": {
   "codemirror_mode": {
    "name": "ipython",
    "version": 3
   },
   "file_extension": ".py",
   "mimetype": "text/x-python",
   "name": "python",
   "nbconvert_exporter": "python",
   "pygments_lexer": "ipython3",
   "version": "3.9.13"
  }
 },
 "nbformat": 4,
 "nbformat_minor": 5
}
