{
 "cells": [
  {
   "cell_type": "code",
   "execution_count": 3,
   "id": "09cb57b0-b835-4100-be60-ab0994e17973",
   "metadata": {},
   "outputs": [
    {
     "name": "stdout",
     "output_type": "stream",
     "text": [
      "b'\\xe2\\x84\\x9b'\n",
      "b'caf&#233;'\n",
      "b'caf&#233;'\n"
     ]
    }
   ],
   "source": [
    "# unicode_encoder.py\n",
    "\n",
    "import unicodedata\n",
    "\n",
    "# Example of encoding and decoding Unicode\n",
    "\n",
    "sample = \"\\u211B\"\n",
    "\n",
    "print(sample.encode('utf-8'))\n",
    "\n",
    "#print(sample.encode('cp-1252'))\n",
    "\n",
    "place = 'caf\\u00e9'\n",
    "byte_value = place.encode('ascii', 'xmlcharrefreplace')\n",
    "print(byte_value)\n",
    "byte_value.decode()\n",
    "print(byte_value)"
   ]
  }
 ],
 "metadata": {
  "kernelspec": {
   "display_name": "Python 3 (ipykernel)",
   "language": "python",
   "name": "python3"
  },
  "language_info": {
   "codemirror_mode": {
    "name": "ipython",
    "version": 3
   },
   "file_extension": ".py",
   "mimetype": "text/x-python",
   "name": "python",
   "nbconvert_exporter": "python",
   "pygments_lexer": "ipython3",
   "version": "3.9.13"
  }
 },
 "nbformat": 4,
 "nbformat_minor": 5
}
