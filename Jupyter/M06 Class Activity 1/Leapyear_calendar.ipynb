{
 "cells": [
  {
   "cell_type": "code",
   "execution_count": 4,
   "id": "f73b5374-74bb-4323-9848-3d92cbd058f2",
   "metadata": {},
   "outputs": [
    {
     "name": "stdin",
     "output_type": "stream",
     "text": [
      "Enter year: 2024\n"
     ]
    },
    {
     "name": "stdout",
     "output_type": "stream",
     "text": [
      "January 31\n",
      "February 29\n",
      "March 31\n",
      "April 30\n",
      "May 31\n",
      "June 30\n",
      "July 31\n",
      "August 31\n",
      "September 30\n",
      "October 31\n",
      "November 30\n",
      "December 31\n"
     ]
    }
   ],
   "source": [
    "# Leapyear_calendar.py\n",
    "\n",
    "import calendar\n",
    "\n",
    "# Displays the number of days in each month when a particular year is entered.\n",
    "\n",
    "months = ['January', 'February', 'March', 'April', 'May', 'June', 'July', 'August', 'September', 'October', 'November', 'December']\n",
    "days = [31, 28, 31, 30, 31, 30, 31, 31, 30, 31, 30, 31]\n",
    "\n",
    "year = int(input(\"Enter year:\"))\n",
    "if calendar.isleap(year):\n",
    "    days[1] += 1    \n",
    "\n",
    "counter = 0\n",
    "while counter < 12:\n",
    "    \n",
    "    print(months[counter], days[counter])\n",
    "    counter += 1\n"
   ]
  }
 ],
 "metadata": {
  "kernelspec": {
   "display_name": "Python 3 (ipykernel)",
   "language": "python",
   "name": "python3"
  },
  "language_info": {
   "codemirror_mode": {
    "name": "ipython",
    "version": 3
   },
   "file_extension": ".py",
   "mimetype": "text/x-python",
   "name": "python",
   "nbconvert_exporter": "python",
   "pygments_lexer": "ipython3",
   "version": "3.9.13"
  }
 },
 "nbformat": 4,
 "nbformat_minor": 5
}
