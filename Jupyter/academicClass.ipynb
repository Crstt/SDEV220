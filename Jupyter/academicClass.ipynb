{
 "cells": [
  {
   "cell_type": "code",
   "execution_count": 1,
   "id": "e3f92210-2036-46b2-a1fe-eb851fb20710",
   "metadata": {},
   "outputs": [
    {
     "name": "stdout",
     "output_type": "stream",
     "text": [
      "{'Student ID': 'A234', 'Student Name': 'Neo Smith', 'GPA': 3.15}\n"
     ]
    }
   ],
   "source": [
    "# academicClass.py\n",
    "# Example of the use of a funciton.\n",
    "#This funciton builds a dictionary.\n",
    "\n",
    "def studentClass(studentID, studentName, GPA):\n",
    "    return {'Student ID': studentID, 'Student Name': studentName, 'GPA':GPA}\n",
    "print(studentClass('A234','Neo Smith',3.15))"
   ]
  }
 ],
 "metadata": {
  "kernelspec": {
   "display_name": "Python 3 (ipykernel)",
   "language": "python",
   "name": "python3"
  },
  "language_info": {
   "codemirror_mode": {
    "name": "ipython",
    "version": 3
   },
   "file_extension": ".py",
   "mimetype": "text/x-python",
   "name": "python",
   "nbconvert_exporter": "python",
   "pygments_lexer": "ipython3",
   "version": "3.9.13"
  }
 },
 "nbformat": 4,
 "nbformat_minor": 5
}
