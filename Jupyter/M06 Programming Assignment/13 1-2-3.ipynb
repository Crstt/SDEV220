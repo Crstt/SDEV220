{
 "cells": [
  {
   "cell_type": "code",
   "execution_count": 1,
   "id": "a6ac0327-30fd-419d-8e68-8d033c75c91c",
   "metadata": {},
   "outputs": [],
   "source": [
    "import datetime"
   ]
  },
  {
   "cell_type": "code",
   "execution_count": 2,
   "id": "4972273c-3cb5-4561-96c8-c51958517c40",
   "metadata": {},
   "outputs": [],
   "source": [
    "# Get current date\n",
    "today = datetime.date.today()\n",
    "\n",
    "# Convert date to string format\n",
    "today_string = today.strftime(\"%Y-%m-%d\")\n",
    "\n",
    "# Write date to file\n",
    "with open(\"today.txt\", \"w\") as file:\n",
    "    file.write(today_string)"
   ]
  },
  {
   "cell_type": "code",
   "execution_count": 3,
   "id": "e1bdca0c-7d5d-4b5f-848c-4316dcc877ab",
   "metadata": {},
   "outputs": [],
   "source": [
    "# Read file into string\n",
    "with open(\"today.txt\", \"r\") as file:\n",
    "    today_string = file.read().strip()"
   ]
  },
  {
   "cell_type": "code",
   "execution_count": 4,
   "id": "30d897e7-e185-4113-a759-c7efea4d4c01",
   "metadata": {},
   "outputs": [
    {
     "name": "stdout",
     "output_type": "stream",
     "text": [
      "2023-04-21\n"
     ]
    }
   ],
   "source": [
    "# Parse date from string\n",
    "today = datetime.datetime.strptime(today_string, \"%Y-%m-%d\").date()\n",
    "\n",
    "# Print parsed date\n",
    "print(today)"
   ]
  }
 ],
 "metadata": {
  "kernelspec": {
   "display_name": "Python 3 (ipykernel)",
   "language": "python",
   "name": "python3"
  },
  "language_info": {
   "codemirror_mode": {
    "name": "ipython",
    "version": 3
   },
   "file_extension": ".py",
   "mimetype": "text/x-python",
   "name": "python",
   "nbconvert_exporter": "python",
   "pygments_lexer": "ipython3",
   "version": "3.9.13"
  }
 },
 "nbformat": 4,
 "nbformat_minor": 5
}
