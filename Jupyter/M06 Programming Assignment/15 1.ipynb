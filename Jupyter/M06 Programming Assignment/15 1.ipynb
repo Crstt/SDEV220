{
 "cells": [
  {
   "cell_type": "code",
   "execution_count": 22,
   "id": "2e25ef07-696f-4b70-beed-46cd3ea53da4",
   "metadata": {
    "tags": []
   },
   "outputs": [],
   "source": [
    "import multiprocessing\n",
    "import random\n",
    "import time\n",
    "import datetime"
   ]
  },
  {
   "cell_type": "code",
   "execution_count": 23,
   "id": "d7e11a09-e443-4b9c-9eab-55f05204316b",
   "metadata": {},
   "outputs": [],
   "source": [
    "def worker():\n",
    "    # Wait for a random amount of time between 0 and 1 seconds\n",
    "    print(f\"Process {multiprocessing.current_process().name} starting\")\n",
    "    rnd = random.random()\n",
    "    print(rnd)\n",
    "    time.sleep(rnd)\n",
    "    \n",
    "    # Print the current time\n",
    "    now = datetime.datetime.now()\n",
    "    print(f\"Process {multiprocessing.current_process().name} exited at {now}\")"
   ]
  },
  {
   "cell_type": "code",
   "execution_count": 24,
   "id": "d2c7ee6b-2f42-424d-b5b0-7817690cb651",
   "metadata": {},
   "outputs": [
    {
     "name": "stdout",
     "output_type": "stream",
     "text": [
      "Process 0\n",
      "Process 1\n",
      "Process 2\n",
      "Process 0\n",
      "Process 1\n",
      "Process 2\n",
      "end\n"
     ]
    }
   ],
   "source": [
    "if __name__ == \"__main__\":\n",
    "    # Create three separate processes\n",
    "    processes = []\n",
    "    for i in range(3):\n",
    "        p = multiprocessing.Process(target=worker, name=f\"Process {i}\")\n",
    "        processes.append(p)\n",
    "        print(f\"Process {i}\")\n",
    "        p.start()\n",
    "\n",
    "    # Wait for all processes to finish\n",
    "    for p in processes:\n",
    "        print(p.name)\n",
    "        p.join()\n",
    "        \n",
    "print(\"end\")\n"
   ]
  }
 ],
 "metadata": {
  "kernelspec": {
   "display_name": "Python 3 (ipykernel)",
   "language": "python",
   "name": "python3"
  },
  "language_info": {
   "codemirror_mode": {
    "name": "ipython",
    "version": 3
   },
   "file_extension": ".py",
   "mimetype": "text/x-python",
   "name": "python",
   "nbconvert_exporter": "python",
   "pygments_lexer": "ipython3",
   "version": "3.9.13"
  }
 },
 "nbformat": 4,
 "nbformat_minor": 5
}
