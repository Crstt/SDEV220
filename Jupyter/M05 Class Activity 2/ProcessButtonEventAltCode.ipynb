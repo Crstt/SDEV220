{
 "cells": [
  {
   "cell_type": "code",
   "execution_count": null,
   "id": "9a5f581e-0e4c-4811-999e-647c474d9d49",
   "metadata": {},
   "outputs": [],
   "source": [
    "from tkinter import * #importing all definitions from tkinter\n",
    "\n",
    "# ProcessButtonEventAltCode.py\n",
    "\n",
    "def __init__(self):\n",
    "    window = Tk() #Creates a window\n",
    "    buttonOk = Button(window, text = \"Ok\", fg = \"red\", command = self.processOK)\n",
    "    buttonCancel = Button(window, text = \"Cance!\", bg = \"yellow\", command = self.processCancel)\n",
    "    buttonOk.pack()\n",
    "    buttonCancel.pack()    \n",
    "    window.mainloop() # Creates an even line\n",
    "    \n",
    "def processOK(self):\n",
    "    print(\"Ok button is clicked\")\n",
    "    \n",
    "def processCancel(self):\n",
    "    print(\"Cancel button is clicked\")\n",
    "    \n",
    "processButtonEvent() # Creates an obect to invoce the __init__ method\n"
   ]
  }
 ],
 "metadata": {
  "kernelspec": {
   "display_name": "Python 3 (ipykernel)",
   "language": "python",
   "name": "python3"
  },
  "language_info": {
   "codemirror_mode": {
    "name": "ipython",
    "version": 3
   },
   "file_extension": ".py",
   "mimetype": "text/x-python",
   "name": "python",
   "nbconvert_exporter": "python",
   "pygments_lexer": "ipython3",
   "version": "3.9.13"
  }
 },
 "nbformat": 4,
 "nbformat_minor": 5
}
