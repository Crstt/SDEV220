{
 "cells": [
  {
   "cell_type": "code",
   "execution_count": 2,
   "id": "5c12683f-3b94-47c6-9cfa-ab539eea455e",
   "metadata": {},
   "outputs": [
    {
     "name": "stdout",
     "output_type": "stream",
     "text": [
      "Ok button is clicked\n",
      "Cancel button is clicked\n"
     ]
    }
   ],
   "source": [
    "from tkinter import * #importing all definitions from tkinter\n",
    "\n",
    "# ProcessButtonEvent.py\n",
    "\n",
    "def processOK():\n",
    "    print(\"Ok button is clicked\")\n",
    "    \n",
    "def processCancel():\n",
    "    print(\"Cancel button is clicked\")\n",
    "    \n",
    "window = Tk() #Creates a window\n",
    "buttonOk = Button(window, text = \"Ok\", fg = \"red\", command = processOK)\n",
    "buttonCancel = Button(window, text = \"Cance!\", bg = \"yellow\", command = processCancel)\n",
    "buttonOk.pack()\n",
    "buttonCancel.pack()\n",
    "\n",
    "window.mainloop() # Creates an even line"
   ]
  }
 ],
 "metadata": {
  "kernelspec": {
   "display_name": "Python 3 (ipykernel)",
   "language": "python",
   "name": "python3"
  },
  "language_info": {
   "codemirror_mode": {
    "name": "ipython",
    "version": 3
   },
   "file_extension": ".py",
   "mimetype": "text/x-python",
   "name": "python",
   "nbconvert_exporter": "python",
   "pygments_lexer": "ipython3",
   "version": "3.9.13"
  }
 },
 "nbformat": 4,
 "nbformat_minor": 5
}
