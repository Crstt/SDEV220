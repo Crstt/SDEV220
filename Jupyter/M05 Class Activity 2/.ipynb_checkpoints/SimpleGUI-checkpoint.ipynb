{
 "cells": [
  {
   "cell_type": "code",
   "execution_count": 1,
   "id": "1139aa3e-73c3-4714-beb6-a0256a3c0b00",
   "metadata": {},
   "outputs": [],
   "source": [
    "from tkinter import * #importing all definitions from tkinter\n",
    "\n",
    "# SimpleGUI.py\n",
    "\n",
    "window = Tk() #Creates a window\n",
    "label = Label(window, text = \"Welcome to Python\") # Creates a lable\n",
    "button = Button(window, text = \"Click Me!\") # Creates a button\n",
    "label.pack() # Place lable into the window\n",
    "button.pack() # Place the button into the window\n",
    "\n",
    "window.mainloop() # Creates an even line"
   ]
  }
 ],
 "metadata": {
  "kernelspec": {
   "display_name": "Python 3 (ipykernel)",
   "language": "python",
   "name": "python3"
  },
  "language_info": {
   "codemirror_mode": {
    "name": "ipython",
    "version": 3
   },
   "file_extension": ".py",
   "mimetype": "text/x-python",
   "name": "python",
   "nbconvert_exporter": "python",
   "pygments_lexer": "ipython3",
   "version": "3.9.13"
  }
 },
 "nbformat": 4,
 "nbformat_minor": 5
}
