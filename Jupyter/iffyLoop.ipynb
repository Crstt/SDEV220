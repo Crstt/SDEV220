{
 "cells": [
  {
   "cell_type": "code",
   "execution_count": 3,
   "id": "bbbc12a8-1497-4085-8911-1176015c4db4",
   "metadata": {},
   "outputs": [
    {
     "name": "stdin",
     "output_type": "stream",
     "text": [
      "Enter a member's name: Arnold\n"
     ]
    },
    {
     "name": "stdout",
     "output_type": "stream",
     "text": [
      "\n"
     ]
    },
    {
     "name": "stdin",
     "output_type": "stream",
     "text": [
      "Enter a member's type: i\n"
     ]
    },
    {
     "name": "stdout",
     "output_type": "stream",
     "text": [
      "\n"
     ]
    },
    {
     "name": "stdin",
     "output_type": "stream",
     "text": [
      "Enter a member's age: 65\n"
     ]
    },
    {
     "name": "stdout",
     "output_type": "stream",
     "text": [
      "\n",
      "Arnold dues are 810.0\n"
     ]
    }
   ],
   "source": [
    "# SDEV 220 - iffy.py - M02 Class Activity 1\n",
    "# Catalano Matteo\n",
    "# 27/03/2023\n",
    "# A python script that utilizes examples of the various uses of if.\n",
    "# This is a script that checks a healt club member for a type of membership he/she has in the club.\n",
    "# Member type 'I' is an individual member - dues are $900 per year.\n",
    "# Member type 'F' is a family member - dues are $1200 per year.\n",
    "# If the individual or head of houshold is age 60 or over, that individual or family recieves a 10% discount\n",
    "# input a member's record which contains the meber's name and membership type and outputs the input data along with the dues\n",
    "# \n",
    "# Enter a member's record.\n",
    "memberName = input(\"Enter a member's name:\")\n",
    "print()\n",
    "memberType = input(\"Enter a member's type:\").upper()\n",
    "print()\n",
    "memberAge = int(input(\"Enter a member's age:\"))\n",
    "print()\n",
    "# Figure out member's dues\n",
    "if memberType == \"I\":\n",
    "    memberDues = 900\n",
    "elif memberType == \"F\":\n",
    "    memberDues = 1200\n",
    "    \n",
    "# test if the member is 60 or over\n",
    "if memberAge >= 60:\n",
    "    memberDues = memberDues * 0.9\n",
    "    \n",
    "#output member's dues\n",
    "print(memberName, \"dues are\", memberDues)\n",
    "#\n",
    "#End of program"
   ]
  }
 ],
 "metadata": {
  "kernelspec": {
   "display_name": "Python 3 (ipykernel)",
   "language": "python",
   "name": "python3"
  },
  "language_info": {
   "codemirror_mode": {
    "name": "ipython",
    "version": 3
   },
   "file_extension": ".py",
   "mimetype": "text/x-python",
   "name": "python",
   "nbconvert_exporter": "python",
   "pygments_lexer": "ipython3",
   "version": "3.9.13"
  }
 },
 "nbformat": 4,
 "nbformat_minor": 5
}
