{
 "cells": [
  {
   "cell_type": "code",
   "execution_count": 6,
   "id": "23997c3e-894c-4fb3-b309-db07e7b91aa1",
   "metadata": {},
   "outputs": [
    {
     "name": "stdin",
     "output_type": "stream",
     "text": [
      "Enter the name of your pet: Daisy\n",
      "Enter the type of your pet (dog/cat/ecc): dog\n",
      "Enter adoption date: 03162009\n",
      "Do you have another adoption record to enter? (Y/N) y\n",
      "Enter the name of your pet: Zloto\n",
      "Enter the type of your pet (dog/cat/ecc): dog\n",
      "Enter adoption date: 02052003\n",
      "Do you have another adoption record to enter? (Y/N) y\n",
      "Enter the name of your pet: Bridget\n",
      "Enter the type of your pet (dog/cat/ecc): cat\n",
      "Enter adoption date: 03062016\n",
      "Do you have another adoption record to enter? (Y/N) y\n",
      "Enter the name of your pet: lightning\n",
      "Enter the type of your pet (dog/cat/ecc): bird\n",
      "Enter adoption date: 16082015\n",
      "Do you have another adoption record to enter? (Y/N) n\n"
     ]
    },
    {
     "name": "stdout",
     "output_type": "stream",
     "text": [
      "\n",
      "Daisy,dog,03162009\n",
      "Zloto,dog,02052003\n",
      "Bridget,cat,03062016\n",
      "lightning,bird,16082015\n",
      "\n"
     ]
    },
    {
     "name": "stdin",
     "output_type": "stream",
     "text": [
      "Is this list okay to write to the file? (Y/N) y\n"
     ]
    },
    {
     "name": "stdout",
     "output_type": "stream",
     "text": [
      "Data writte to file.\n",
      "\n",
      "End of program\n"
     ]
    }
   ],
   "source": [
    "# petAdoption.py\n",
    "# Writes name, type, and adoption date for pets adopted from a shelter.\n",
    "\n",
    "# Loop to build list\n",
    "\n",
    "response = 'Y'\n",
    "pets = ''\n",
    "while response.upper() == 'Y':\n",
    "    petName = input(\"Enter the name of your pet:\")\n",
    "    petType = input(\"Enter the type of your pet (dog/cat/ecc):\")\n",
    "    adoptDate = input(\"Enter adoption date:\")\n",
    "    #Build list\n",
    "    pets += petName + ',' + petType + ',' + adoptDate + '\\n'\n",
    "    response = input(\"Do you have another adoption record to enter? (Y/N)\")\n",
    "print()\n",
    "print(pets)\n",
    "\n",
    "# Make sure list is correct before wirting it to a file.\n",
    "listOk = input(\"Is this list okay to write to the file? (Y/N)\")\n",
    "\n",
    "if listOk.upper() == 'Y':\n",
    "    fout = open('adoptions.txt', 'wt')\n",
    "    print(pets, file=fout)\n",
    "    fout.close()\n",
    "    print(\"Data writte to file.\")\n",
    "else:\n",
    "    print(\"Data not writte to file.\")\n",
    "\n",
    "print()\n",
    "print(\"End of program\")"
   ]
  }
 ],
 "metadata": {
  "kernelspec": {
   "display_name": "Python 3 (ipykernel)",
   "language": "python",
   "name": "python3"
  },
  "language_info": {
   "codemirror_mode": {
    "name": "ipython",
    "version": 3
   },
   "file_extension": ".py",
   "mimetype": "text/x-python",
   "name": "python",
   "nbconvert_exporter": "python",
   "pygments_lexer": "ipython3",
   "version": "3.9.13"
  }
 },
 "nbformat": 4,
 "nbformat_minor": 5
}
