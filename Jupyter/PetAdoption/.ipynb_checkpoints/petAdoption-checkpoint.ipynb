{
 "cells": [
  {
   "cell_type": "code",
   "execution_count": 5,
   "id": "23997c3e-894c-4fb3-b309-db07e7b91aa1",
   "metadata": {},
   "outputs": [
    {
     "name": "stdin",
     "output_type": "stream",
     "text": [
      "Enter the name of your pet: Daisy\n",
      "Enter the type of your pet (dog/cat/ecc): dog\n",
      "Enter adoption date: 03162009\n",
      "Do you have another adoption record to enter? (Y/N) Y\n",
      "Enter the name of your pet: Zloto\n",
      "Enter the type of your pet (dog/cat/ecc): dog\n",
      "Enter adoption date: 02052003\n",
      "Do you have another adoption record to enter? (Y/N) y\n",
      "Enter the name of your pet: Bridget\n",
      "Enter the type of your pet (dog/cat/ecc): cat\n",
      "Enter adoption date: 03062016\n",
      "Do you have another adoption record to enter? (Y/N) y\n",
      "Enter the name of your pet: lightning\n",
      "Enter the type of your pet (dog/cat/ecc): bird\n",
      "Enter adoption date: 16082015\n",
      "Do you have another adoption record to enter? (Y/N) n\n"
     ]
    },
    {
     "name": "stdout",
     "output_type": "stream",
     "text": [
      "\n",
      "Daisy,dog,03162009\n",
      "Zloto,dog,02052003\n",
      "Bridget,cat,03062016\n",
      "lightning,bird,16082015\n",
      "\n"
     ]
    },
    {
     "name": "stdin",
     "output_type": "stream",
     "text": [
      "Is this list okay to write to the file? (Y/N) y\n"
     ]
    },
    {
     "ename": "NameError",
     "evalue": "name 'wt' is not defined",
     "output_type": "error",
     "traceback": [
      "\u001b[1;31m---------------------------------------------------------------------------\u001b[0m",
      "\u001b[1;31mNameError\u001b[0m                                 Traceback (most recent call last)",
      "\u001b[1;32m~\\AppData\\Local\\Temp\\ipykernel_15036\\2209297182.py\u001b[0m in \u001b[0;36m<module>\u001b[1;34m\u001b[0m\n\u001b[0;32m     20\u001b[0m \u001b[1;33m\u001b[0m\u001b[0m\n\u001b[0;32m     21\u001b[0m \u001b[1;32mif\u001b[0m \u001b[0mlistOk\u001b[0m\u001b[1;33m.\u001b[0m\u001b[0mupper\u001b[0m\u001b[1;33m(\u001b[0m\u001b[1;33m)\u001b[0m \u001b[1;33m==\u001b[0m \u001b[1;34m'Y'\u001b[0m\u001b[1;33m:\u001b[0m\u001b[1;33m\u001b[0m\u001b[1;33m\u001b[0m\u001b[0m\n\u001b[1;32m---> 22\u001b[1;33m     \u001b[0mfout\u001b[0m \u001b[1;33m=\u001b[0m \u001b[0mopen\u001b[0m\u001b[1;33m(\u001b[0m\u001b[1;34m'adoptions.txt'\u001b[0m\u001b[1;33m,\u001b[0m \u001b[0mwt\u001b[0m\u001b[1;33m)\u001b[0m\u001b[1;33m\u001b[0m\u001b[1;33m\u001b[0m\u001b[0m\n\u001b[0m\u001b[0;32m     23\u001b[0m     \u001b[0mprint\u001b[0m\u001b[1;33m(\u001b[0m\u001b[0mpets\u001b[0m\u001b[1;33m,\u001b[0m \u001b[0mfile\u001b[0m\u001b[1;33m=\u001b[0m\u001b[0mfout\u001b[0m\u001b[1;33m)\u001b[0m\u001b[1;33m\u001b[0m\u001b[1;33m\u001b[0m\u001b[0m\n\u001b[0;32m     24\u001b[0m     \u001b[0mfout\u001b[0m\u001b[1;33m.\u001b[0m\u001b[0mclose\u001b[0m\u001b[1;33m(\u001b[0m\u001b[1;33m)\u001b[0m\u001b[1;33m\u001b[0m\u001b[1;33m\u001b[0m\u001b[0m\n",
      "\u001b[1;31mNameError\u001b[0m: name 'wt' is not defined"
     ]
    }
   ],
   "source": [
    "# petAdoption.py\n",
    "# Writes name, type, and adoption date for pets adopted from a shelter.\n",
    "\n",
    "# Loop to build list\n",
    "\n",
    "response = 'Y'\n",
    "pets = ''\n",
    "while response.upper() == 'Y':\n",
    "    petName = input(\"Enter the name of your pet:\")\n",
    "    petType = input(\"Enter the type of your pet (dog/cat/ecc):\")\n",
    "    adoptDate = input(\"Enter adoption date:\")\n",
    "    #Build list\n",
    "    pets += petName + ',' + petType + ',' + adoptDate + '\\n'\n",
    "    response = input(\"Do you have another adoption record to enter? (Y/N)\")\n",
    "print()\n",
    "print(pets)\n",
    "\n",
    "# Make sure list is correct before wirting it to a file.\n",
    "listOk = input(\"Is this list okay to write to the file? (Y/N)\")\n",
    "\n",
    "if listOk.upper() == 'Y':\n",
    "    fout = open('adoptions.txt', 'wt')\n",
    "    print(pets, file=fout)\n",
    "    fout.close()\n",
    "    print(\"Data writte to file.\")\n",
    "else:\n",
    "    print(\"Data not writte to file.\")\n",
    "\n",
    "print()\n",
    "print(\"End of program\")"
   ]
  }
 ],
 "metadata": {
  "kernelspec": {
   "display_name": "Python 3 (ipykernel)",
   "language": "python",
   "name": "python3"
  },
  "language_info": {
   "codemirror_mode": {
    "name": "ipython",
    "version": 3
   },
   "file_extension": ".py",
   "mimetype": "text/x-python",
   "name": "python",
   "nbconvert_exporter": "python",
   "pygments_lexer": "ipython3",
   "version": "3.9.13"
  }
 },
 "nbformat": 4,
 "nbformat_minor": 5
}
