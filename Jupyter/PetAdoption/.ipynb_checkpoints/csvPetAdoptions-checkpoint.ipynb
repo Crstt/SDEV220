{
 "cells": [
  {
   "cell_type": "code",
   "execution_count": 2,
   "id": "1495c361-9a71-48ee-bc58-66dd511ee23b",
   "metadata": {},
   "outputs": [
    {
     "name": "stdout",
     "output_type": "stream",
     "text": [
      "Pet adoptions report\n",
      "\n",
      "[['Daisy', 'dog', '03162009'], ['Zloto', 'dog', '02052003'], ['Bridget', 'cat', '03062016'], ['lightning', 'bird', '16082015']]\n"
     ]
    }
   ],
   "source": [
    "import csv\n",
    "# csvPetAdoptions.py\n",
    "# Creates report listing pet adoptions using Python csc reader.\n",
    "# Reads adoptions.csv and lists records in a report.\n",
    "\n",
    "print(\"Pet adoptions report\")\n",
    "print()\n",
    "with open('adoptions.csv','rt') as fin: # context manager \n",
    "    cin = csv.reader(fin)\n",
    "    pets = [row for row in cin]\n",
    "print(pets)"
   ]
  }
 ],
 "metadata": {
  "kernelspec": {
   "display_name": "Python 3 (ipykernel)",
   "language": "python",
   "name": "python3"
  },
  "language_info": {
   "codemirror_mode": {
    "name": "ipython",
    "version": 3
   },
   "file_extension": ".py",
   "mimetype": "text/x-python",
   "name": "python",
   "nbconvert_exporter": "python",
   "pygments_lexer": "ipython3",
   "version": "3.9.13"
  }
 },
 "nbformat": 4,
 "nbformat_minor": 5
}
