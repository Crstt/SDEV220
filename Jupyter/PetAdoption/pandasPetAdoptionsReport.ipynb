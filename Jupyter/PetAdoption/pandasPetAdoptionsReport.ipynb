{
 "cells": [
  {
   "cell_type": "code",
   "execution_count": 2,
   "id": "9c1c5674-51fc-429f-bcbf-e39c4be62bf7",
   "metadata": {},
   "outputs": [
    {
     "name": "stdout",
     "output_type": "stream",
     "text": [
      "Pet Adoptions Report\n",
      "\n",
      "       Daisy   dog  03162009\n",
      "0      Zloto   dog   2052003\n",
      "1    Bridget   cat   3062016\n",
      "2  lightning  bird  16082015\n"
     ]
    }
   ],
   "source": [
    "import pandas\n",
    "\n",
    "# pandasPetAdoptionReport.py\n",
    "# Uses pandas to read a csv and print a report.\n",
    "print(\"Pet Adoptions Report\")\n",
    "print()\n",
    "pets = pandas.read_csv('adoptions.csv')\n",
    "print(pets)"
   ]
  }
 ],
 "metadata": {
  "kernelspec": {
   "display_name": "Python 3 (ipykernel)",
   "language": "python",
   "name": "python3"
  },
  "language_info": {
   "codemirror_mode": {
    "name": "ipython",
    "version": 3
   },
   "file_extension": ".py",
   "mimetype": "text/x-python",
   "name": "python",
   "nbconvert_exporter": "python",
   "pygments_lexer": "ipython3",
   "version": "3.9.13"
  }
 },
 "nbformat": 4,
 "nbformat_minor": 5
}
