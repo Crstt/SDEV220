{
 "cells": [
  {
   "cell_type": "code",
   "execution_count": 9,
   "id": "6524fb0f-ea14-4e29-9423-f8688c26a60f",
   "metadata": {},
   "outputs": [
    {
     "name": "stdout",
     "output_type": "stream",
     "text": [
      "Pet adoption Report\n",
      "\n",
      "Daisy,dog,03162009\n",
      "\n",
      "Zloto,dog,02052003\n",
      "\n",
      "Bridget,cat,03062016\n",
      "\n",
      "lightning,bird,16082015\n"
     ]
    }
   ],
   "source": [
    "# petAdotpionReport.py\n",
    "# Reads adoption.txt file and prints the records in a report\n",
    "\n",
    "print(\"Pet adoption Report\")\n",
    "print()\n",
    "fin = open('adoptions.txt', 'rt')\n",
    "line = fin.readline()\n",
    "while line:\n",
    "    print(line)\n",
    "    line = fin.readline()\n",
    "fin.close()"
   ]
  }
 ],
 "metadata": {
  "kernelspec": {
   "display_name": "Python 3 (ipykernel)",
   "language": "python",
   "name": "python3"
  },
  "language_info": {
   "codemirror_mode": {
    "name": "ipython",
    "version": 3
   },
   "file_extension": ".py",
   "mimetype": "text/x-python",
   "name": "python",
   "nbconvert_exporter": "python",
   "pygments_lexer": "ipython3",
   "version": "3.9.13"
  }
 },
 "nbformat": 4,
 "nbformat_minor": 5
}
