{
 "cells": [
  {
   "cell_type": "code",
   "execution_count": null,
   "id": "1c744aab-5a28-49d2-82cf-f4e9df52b430",
   "metadata": {},
   "outputs": [
    {
     "name": "stdout",
     "output_type": "stream",
     "text": [
      "Your name is Mat\n"
     ]
    }
   ],
   "source": [
    "# widgets.py\n",
    "# program demos the various buttons and other GUI objects in Tkinter\n",
    "\n",
    "from tkinter import *\n",
    "\n",
    "class Widget:\n",
    "    def __init__(self):\n",
    "        window = Tk() # Creates a window\n",
    "        window.title(\"Widget Demo\") #Set a title to the window\n",
    "        # Add a check box and a radio button to frame1.\n",
    "        frame1 = Frame(window) #Craete and add a frame to window.\n",
    "        frame1.pack()\n",
    "        self.v1 = IntVar()\n",
    "        cbtBold = Checkbutton(frame1, text = \"Bold\", variable = self.v1, command = self.processCheckbutto)\n",
    "        self.v2 = IntVar()\n",
    "        rdRed = Radiobutton(frame1, text = \"Red\", bg = \"red\", variable = self.v2, value = 1, command = self.processRadiobutton)\n",
    "        rdYellow = Radiobutton(frame1, text = \"Yellow\", bg = \"yellow\", variable = self.v2, value = 2, command = self.processRadiobutton)\n",
    "        cbtBold.grid(row = 1, column = 1)\n",
    "        rdRed.grid(row = 1, column = 2)\n",
    "        rdYellow.grid(row = 1, column = 3)\n",
    "        \n",
    "        # Addd a lable, and entry, a button, and a message to frame1\n",
    "        \n",
    "        frame2 = Frame(window) #Craete and add a frame to window.\n",
    "        frame2.pack()\n",
    "        label = Label(frame2, text = \"Enter your name:\")\n",
    "        self.name = StringVar()\n",
    "        entryName = Entry(frame2, textvariable = self.name)\n",
    "        btGetName = Button(frame2, text = \"Got Name\", command = self.processButton)\n",
    "        message = Message(frame2, text = \"It is a widget demo.\")\n",
    "        label.grid(row = 1, column = 1)\n",
    "        entryName.grid(row = 1, column = 2)\n",
    "        btGetName.grid(row = 1, column = 3)\n",
    "        message.grid(row = 1, column = 4)\n",
    "        \n",
    "        #Add text\n",
    "        text = Text(window)\n",
    "        text.pack()\n",
    "        text.insert(END, \"Tip:\\nThe best way to learn Tkinter is to read\")\n",
    "        text.insert(END, \"these carefully designed examples and use them\")\n",
    "        text.insert(END, \"to create your applications.\")\n",
    "        \n",
    "        window.mainloop() #create an event Loop\n",
    "        \n",
    "        \n",
    "    def processCheckbutto(self):\n",
    "        print(\"Check button is\", (\"checked\" if self.v1.get() == 1 else \"unchecked\"))\n",
    "    \n",
    "    def processRadiobutton(self):\n",
    "        print(\"Red\" if self.v2.get() == 1 else \"Yellow\")\n",
    "        \n",
    "    def processButton(self):\n",
    "        print(\"Your name is\", self.name.get())\n",
    "wd = Widget()"
   ]
  }
 ],
 "metadata": {
  "kernelspec": {
   "display_name": "Python 3 (ipykernel)",
   "language": "python",
   "name": "python3"
  },
  "language_info": {
   "codemirror_mode": {
    "name": "ipython",
    "version": 3
   },
   "file_extension": ".py",
   "mimetype": "text/x-python",
   "name": "python",
   "nbconvert_exporter": "python",
   "pygments_lexer": "ipython3",
   "version": "3.9.13"
  }
 },
 "nbformat": 4,
 "nbformat_minor": 5
}
