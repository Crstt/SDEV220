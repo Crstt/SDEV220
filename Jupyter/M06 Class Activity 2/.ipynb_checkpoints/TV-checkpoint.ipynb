{
 "cells": [
  {
   "cell_type": "code",
   "execution_count": 1,
   "id": "f603330d-bc42-42d5-aa83-3543ad65b0c8",
   "metadata": {},
   "outputs": [],
   "source": [
    "# TV.py\n",
    "# Mimics turning a TV on and off, etc.\n",
    "\n",
    "class TV:\n",
    "    def __init__(self):\n",
    "        self.channel = 1\n",
    "        self.volume = 1\n",
    "        self.on = 1\n",
    "        \n",
    "    def turnOn(self):\n",
    "        self.on = True\n",
    "    \n",
    "    def turnOff(self):\n",
    "        self.on = True\n",
    "        \n",
    "    def getChannel(self):\n",
    "        return self.channel\n",
    "    \n",
    "    def setChannel(self, channel):\n",
    "        if self.on and 1 <= channel <= 120:\n",
    "            self.channel = channel\n",
    "    \n",
    "    def getVolumeLevel(self):\n",
    "        return self.volume\n",
    "    \n",
    "    def setVolumeLevel(self, volume):\n",
    "        if self.on and 1 <= volume <= 7:\n",
    "            self.volume = volume\n",
    "            \n",
    "    def channelUp(self):\n",
    "        if self.on:\n",
    "            if self.channel < 120:\n",
    "                self.channel += 1\n",
    "            else:\n",
    "                self.channel = 1\n",
    "                \n",
    "    def channelDown(self):\n",
    "        if self.on:\n",
    "            if self.channel > 1:\n",
    "                self.channel -= 1\n",
    "            else:\n",
    "                self.channel = 120\n",
    "                \n",
    "    def volumeUp(self):\n",
    "        if self.on:\n",
    "            if self.volume < 7:\n",
    "                self.volume += 1\n",
    "                \n",
    "    def volumeDown(self):\n",
    "        if self.on:\n",
    "            if self.volume > 1:\n",
    "                self.volume -= 1"
   ]
  }
 ],
 "metadata": {
  "kernelspec": {
   "display_name": "Python 3 (ipykernel)",
   "language": "python",
   "name": "python3"
  },
  "language_info": {
   "codemirror_mode": {
    "name": "ipython",
    "version": 3
   },
   "file_extension": ".py",
   "mimetype": "text/x-python",
   "name": "python",
   "nbconvert_exporter": "python",
   "pygments_lexer": "ipython3",
   "version": "3.9.13"
  }
 },
 "nbformat": 4,
 "nbformat_minor": 5
}
