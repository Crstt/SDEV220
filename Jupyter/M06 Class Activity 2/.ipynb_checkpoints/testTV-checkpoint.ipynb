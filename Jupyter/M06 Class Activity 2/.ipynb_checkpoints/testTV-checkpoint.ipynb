{
 "cells": [
  {
   "cell_type": "code",
   "execution_count": 6,
   "id": "68aa1af1-4cb6-448a-bfb8-a442c626ffa6",
   "metadata": {},
   "outputs": [
    {
     "name": "stdout",
     "output_type": "stream",
     "text": [
      "tv1's channel is 30 and volume level is 3\n",
      "\n",
      "tv2's channel is 3 and volume level is 2\n"
     ]
    }
   ],
   "source": [
    "# testTV.py\n",
    "\n",
    "# Calls the tv class and turn tv on and off and volume up and down\n",
    "\n",
    "from TV import TV\n",
    "\n",
    "\n",
    "tv1 = TV()\n",
    "tv1.turnOn()\n",
    "tv1.setChannel(30)\n",
    "tv1.setVolumeLevel(3)\n",
    "\n",
    "tv2 = TV()\n",
    "tv2.turnOn()\n",
    "tv2.channelUp()\n",
    "tv2.channelUp()\n",
    "tv2.channelUp()\n",
    "tv2.channelUp()\n",
    "tv2.channelUp()\n",
    "tv2.channelUp()\n",
    "tv2.volumeUp()\n",
    "tv2.volumeUp()\n",
    "tv2.volumeUp()\n",
    "tv2.volumeUp()\n",
    "tv2.volumeUp()\n",
    "\n",
    "print(\"tv1's channel is\", tv1.getChannel(),\"and volume level is\", tv1.getVolumeLevel())\n",
    "print()\n",
    "print(\"tv2's channel is\", tv2.getChannel(),\"and volume level is\", tv2.getVolumeLevel())"
   ]
  }
 ],
 "metadata": {
  "kernelspec": {
   "display_name": "Python 3 (ipykernel)",
   "language": "python",
   "name": "python3"
  },
  "language_info": {
   "codemirror_mode": {
    "name": "ipython",
    "version": 3
   },
   "file_extension": ".py",
   "mimetype": "text/x-python",
   "name": "python",
   "nbconvert_exporter": "python",
   "pygments_lexer": "ipython3",
   "version": "3.9.13"
  }
 },
 "nbformat": 4,
 "nbformat_minor": 5
}
