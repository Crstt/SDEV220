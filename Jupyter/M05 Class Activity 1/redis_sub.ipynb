{
 "cells": [
  {
   "cell_type": "code",
   "execution_count": null,
   "id": "d9d3faf1-bd63-4851-8a9e-200aa67d95ca",
   "metadata": {},
   "outputs": [],
   "source": [
    "import redis\n",
    "conn = redis.Redis()\n",
    "\n",
    "topics = ['maine coon', 'persian']\n",
    "sub = conn.pubsub()\n",
    "sub.subscribe(topics)\n",
    "for msg in sub.listen():\n",
    "    if msg['type'] == 'message':\n",
    "        cat = msg['channel']\n",
    "        hat = msg['data']\n",
    "        print('Subscribe: %s wears a %s' % (cat, hat))"
   ]
  }
 ],
 "metadata": {
  "kernelspec": {
   "display_name": "Python 3 (ipykernel)",
   "language": "python",
   "name": "python3"
  },
  "language_info": {
   "codemirror_mode": {
    "name": "ipython",
    "version": 3
   },
   "file_extension": ".py",
   "mimetype": "text/x-python",
   "name": "python",
   "nbconvert_exporter": "python",
   "pygments_lexer": "ipython3",
   "version": "3.9.13"
  }
 },
 "nbformat": 4,
 "nbformat_minor": 5
}
