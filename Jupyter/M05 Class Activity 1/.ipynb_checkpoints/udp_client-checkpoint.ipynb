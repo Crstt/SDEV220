{
 "cells": [
  {
   "cell_type": "code",
   "execution_count": 4,
   "id": "d9c26a24-9d2e-4407-8851-bb87c80b50ca",
   "metadata": {},
   "outputs": [
    {
     "name": "stdout",
     "output_type": "stream",
     "text": [
      "Starting the client at 2023-04-17 16:29:19.159817\n",
      "At 2023-04-17 16:29:19.160816 ('127.0.0.1', 6789) said b'Greetings! Welcome Pythonista!'\n"
     ]
    }
   ],
   "source": [
    "import socket\n",
    "from datetime import datetime\n",
    "\n",
    "server_address = ('localhost', 6789)\n",
    "max_size = 4096\n",
    "\n",
    "print('Starting the client at', datetime.now())\n",
    "client = socket.socket(socket.AF_INET, socket.SOCK_DGRAM)\n",
    "client.sendto(b'Hello There!', server_address)\n",
    "data, server = client.recvfrom(max_size)\n",
    "print('At', datetime.now(), server, 'said', data)\n",
    "client.close()"
   ]
  },
  {
   "cell_type": "code",
   "execution_count": 6,
   "id": "7d2680e1-2911-40f8-b49a-3cc61fcab4f4",
   "metadata": {},
   "outputs": [
    {
     "name": "stdin",
     "output_type": "stream",
     "text": [
      "Enter server number 6789 or 1357 1357\n"
     ]
    },
    {
     "name": "stdout",
     "output_type": "stream",
     "text": [
      "Starting the client at 2023-04-17 16:35:09.678261\n",
      "At 2023-04-17 16:35:09.679263 ('127.0.0.1', 1357) said b'Greetings! I am your new server!'\n"
     ]
    }
   ],
   "source": [
    "import socket\n",
    "from datetime import datetime\n",
    "\n",
    "which_server = int(input(\"Enter server number 6789 or 1357\"))\n",
    "server_address = ('localhost', which_server)\n",
    "max_size = 4096\n",
    "\n",
    "print('Starting the client at', datetime.now())\n",
    "client = socket.socket(socket.AF_INET, socket.SOCK_DGRAM)\n",
    "client.sendto(b'Hello There!', server_address)\n",
    "data, server = client.recvfrom(max_size)\n",
    "print('At', datetime.now(), server, 'said', data)\n",
    "client.close()"
   ]
  }
 ],
 "metadata": {
  "kernelspec": {
   "display_name": "Python 3 (ipykernel)",
   "language": "python",
   "name": "python3"
  },
  "language_info": {
   "codemirror_mode": {
    "name": "ipython",
    "version": 3
   },
   "file_extension": ".py",
   "mimetype": "text/x-python",
   "name": "python",
   "nbconvert_exporter": "python",
   "pygments_lexer": "ipython3",
   "version": "3.9.13"
  }
 },
 "nbformat": 4,
 "nbformat_minor": 5
}
