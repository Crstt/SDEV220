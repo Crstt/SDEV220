{
 "cells": [
  {
   "cell_type": "code",
   "execution_count": null,
   "id": "cdb5a7f1-ecb6-4d87-b817-b54892047128",
   "metadata": {},
   "outputs": [],
   "source": [
    "import zmq\n",
    "\n",
    "host = '127.0.0.1'\n",
    "port = 6789\n",
    "context = zmq.Context()\n",
    "client = context.socket(zmq.REQ)\n",
    "client.connect(\"tcp://%s:%s\" % (host, port))\n",
    "for num in range(1, 6):\n",
    "    request_str = \"message #%s\" % num\n",
    "    request_bytes = request_str.encode('utf-8')\n",
    "    client.send(request_bytes)\n",
    "    reply_bytes = client.recv()\n",
    "    reply_str = reply_bytes.decode('utf-8')\n",
    "    print(\"Sent %s, received %s\" % (request_str, reply_str))"
   ]
  }
 ],
 "metadata": {
  "kernelspec": {
   "display_name": "Python 3 (ipykernel)",
   "language": "python",
   "name": "python3"
  },
  "language_info": {
   "codemirror_mode": {
    "name": "ipython",
    "version": 3
   },
   "file_extension": ".py",
   "mimetype": "text/x-python",
   "name": "python",
   "nbconvert_exporter": "python",
   "pygments_lexer": "ipython3",
   "version": "3.9.13"
  }
 },
 "nbformat": 4,
 "nbformat_minor": 5
}
