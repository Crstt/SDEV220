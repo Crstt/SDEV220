{
 "cells": [
  {
   "cell_type": "code",
   "execution_count": null,
   "id": "df6bf8cc-1118-4976-b65a-fb621666901f",
   "metadata": {},
   "outputs": [],
   "source": [
    "import redis\n",
    "import random\n",
    "\n",
    "conn = redis.Redis()\n",
    "cats = ['siamese', 'persian', 'maine coon', 'norwegian forest']\n",
    "hats = ['stovepipe', 'bowler', 'tam-o-shanter', 'fedora']\n",
    "for msg in range(10):\n",
    "    cat = random.choice(cats)\n",
    "    hat = random.choice(hats)\n",
    "    print('Publish: %s wears a %s' % (cat, hat))\n",
    "    conn.publish(cat, hat)"
   ]
  }
 ],
 "metadata": {
  "kernelspec": {
   "display_name": "Python 3 (ipykernel)",
   "language": "python",
   "name": "python3"
  },
  "language_info": {
   "codemirror_mode": {
    "name": "ipython",
    "version": 3
   },
   "file_extension": ".py",
   "mimetype": "text/x-python",
   "name": "python",
   "nbconvert_exporter": "python",
   "pygments_lexer": "ipython3",
   "version": "3.9.13"
  }
 },
 "nbformat": 4,
 "nbformat_minor": 5
}
