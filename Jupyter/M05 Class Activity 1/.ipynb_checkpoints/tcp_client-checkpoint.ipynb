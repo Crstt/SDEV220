{
 "cells": [
  {
   "cell_type": "code",
   "execution_count": 2,
   "id": "6ba140bb-f878-45dd-9c99-a5355e3209c0",
   "metadata": {},
   "outputs": [
    {
     "name": "stdout",
     "output_type": "stream",
     "text": [
      "Starting the client at 2023-04-17 16:42:22.430026\n",
      "At 2023-04-17 16:42:22.431539 someone replied b'Are you talking to me?'\n"
     ]
    }
   ],
   "source": [
    "import socket\n",
    "from datetime import datetime\n",
    "\n",
    "address = ('localhost', 6789)\n",
    "max_size = 1000\n",
    "\n",
    "print('Starting the client at', datetime.now())\n",
    "client = socket.socket(socket.AF_INET, socket.SOCK_STREAM)\n",
    "client.connect(address)\n",
    "client.sendall(b'Hey! My name is Paul')\n",
    "data = client.recv(max_size)\n",
    "print('At', datetime.now(), 'someone replied', data)\n",
    "client.close()"
   ]
  }
 ],
 "metadata": {
  "kernelspec": {
   "display_name": "Python 3 (ipykernel)",
   "language": "python",
   "name": "python3"
  },
  "language_info": {
   "codemirror_mode": {
    "name": "ipython",
    "version": 3
   },
   "file_extension": ".py",
   "mimetype": "text/x-python",
   "name": "python",
   "nbconvert_exporter": "python",
   "pygments_lexer": "ipython3",
   "version": "3.9.13"
  }
 },
 "nbformat": 4,
 "nbformat_minor": 5
}
