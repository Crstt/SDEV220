{
 "cells": [
  {
   "cell_type": "code",
   "execution_count": 4,
   "id": "1d8e42a7-8ce2-4109-8716-2856f353748d",
   "metadata": {},
   "outputs": [
    {
     "name": "stdout",
     "output_type": "stream",
     "text": [
      "Calculate the area of rectangular and a circular swimming pool\n"
     ]
    },
    {
     "name": "stdin",
     "output_type": "stream",
     "text": [
      "Enter the lenght of the rectangular pool 8.7\n",
      "Enter the width of the rectangular pool 5.5\n"
     ]
    },
    {
     "name": "stdout",
     "output_type": "stream",
     "text": [
      "The area of a rectangular swimming pool with lenght of 8.7 and a width of 5.5 is 47.849999999999994\n"
     ]
    },
    {
     "name": "stdin",
     "output_type": "stream",
     "text": [
      "Enter the diameter of the circular pool 8\n"
     ]
    },
    {
     "name": "stdout",
     "output_type": "stream",
     "text": [
      "The area of a circular swimming pool with diameter 8.0 is 50.24\n"
     ]
    }
   ],
   "source": [
    "print(\"Calculate the area of rectangular and a circular swimming pool\")\n",
    "pi = 3.14\n",
    "\n",
    "l = float(input(\"Enter the lenght of the rectangular pool\"))\n",
    "w = float(input(\"Enter the width of the rectangular pool\"))\n",
    "a = l*w\n",
    "print(\"The area of a rectangular swimming pool with lenght of\", l, \"and a width of\", w, \"is\", a)\n",
    "\n",
    "d = float(input(\"Enter the diameter of the circular pool\"))\n",
    "r = d/2\n",
    "a = pi*r**2\n",
    "print(\"The area of a circular swimming pool with diameter\", d, \"is\", a)"
   ]
  },
  {
   "cell_type": "code",
   "execution_count": null,
   "id": "076c5af2-293c-41fb-82cd-ea8546257ae8",
   "metadata": {},
   "outputs": [],
   "source": []
  }
 ],
 "metadata": {
  "kernelspec": {
   "display_name": "Python 3 (ipykernel)",
   "language": "python",
   "name": "python3"
  },
  "language_info": {
   "codemirror_mode": {
    "name": "ipython",
    "version": 3
   },
   "file_extension": ".py",
   "mimetype": "text/x-python",
   "name": "python",
   "nbconvert_exporter": "python",
   "pygments_lexer": "ipython3",
   "version": "3.9.13"
  }
 },
 "nbformat": 4,
 "nbformat_minor": 5
}
