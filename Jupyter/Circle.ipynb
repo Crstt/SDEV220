{
 "cells": [
  {
   "cell_type": "code",
   "execution_count": 3,
   "id": "35473057-802b-47d9-b15d-7216d1c497d5",
   "metadata": {},
   "outputs": [
    {
     "name": "stdout",
     "output_type": "stream",
     "text": [
      "Area of circle c1 is 3.141592653589793\n",
      "Perimeter of cirlce c1 is 6.283185307179586\n",
      "\n",
      "Area of circle c2 is 78.53981633974483\n",
      "Perimeter of cirlce c2 is 31.41592653589793\n",
      "\n"
     ]
    }
   ],
   "source": [
    "import math\n",
    "\n",
    "# circle.py\n",
    "# Contains a constructor that computes the area and perimeter of a circle.\n",
    "# It also contains instructions that use the constructor.\n",
    "\n",
    "class Circle:\n",
    "    # use this class to instanciate objects.\n",
    "    \n",
    "    def __init__(self,radious=1):\n",
    "        self.radious = radious\n",
    "    \n",
    "    def getArea(self):\n",
    "        return self.radious * self.radious * math.pi\n",
    "    \n",
    "    def getPerimeter(self):\n",
    "        return 2 * self.radious * math.pi\n",
    "    \n",
    "    def setRaious(self, radious):\n",
    "        self.radious = radious\n",
    "        \n",
    "    # End of constructor.\n",
    "    \n",
    "# Create object.\n",
    "\n",
    "c1 = Circle()\n",
    "c2 = Circle(5)\n",
    "print(\"Area of circle c1 is\", c1.getArea())\n",
    "print(\"Perimeter of cirlce c1 is\", c1.getPerimeter())\n",
    "print()\n",
    "print(\"Area of circle c2 is\", c2.getArea())\n",
    "print(\"Perimeter of cirlce c2 is\", c2.getPerimeter())\n",
    "print()\n",
    "        \n"
   ]
  }
 ],
 "metadata": {
  "kernelspec": {
   "display_name": "Python 3 (ipykernel)",
   "language": "python",
   "name": "python3"
  },
  "language_info": {
   "codemirror_mode": {
    "name": "ipython",
    "version": 3
   },
   "file_extension": ".py",
   "mimetype": "text/x-python",
   "name": "python",
   "nbconvert_exporter": "python",
   "pygments_lexer": "ipython3",
   "version": "3.9.13"
  }
 },
 "nbformat": 4,
 "nbformat_minor": 5
}
