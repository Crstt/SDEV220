{
 "cells": [
  {
   "cell_type": "code",
   "execution_count": 1,
   "id": "6bd51eb6-e983-4b02-8841-338fb755cf2a",
   "metadata": {},
   "outputs": [
    {
     "name": "stdout",
     "output_type": "stream",
     "text": [
      "[{'author': 'J R R Tolkien', 'book': 'The Hobbit'}, {'author': 'Lynne Truss', 'book': 'Eats, Shoots & Leaves'}]\n"
     ]
    }
   ],
   "source": [
    "import csv\n",
    "\n",
    "# Open the CSV file named \"books.csv\" in read mode and assign it to the file object \"file\"\n",
    "with open('books.csv', 'r', encoding='utf-8-sig') as file:\n",
    "    # Use the csv.DictReader() method to read the CSV file and create a list of dictionaries that represent each row.\n",
    "    # Assign the resulting list to the variable \"books\"\n",
    "    csv_reader = csv.DictReader(file)\n",
    "    books = list(csv_reader)\n",
    "    \n",
    "# Print the contents of the \"books\" list to the console\n",
    "print(books)\n"
   ]
  },
  {
   "cell_type": "code",
   "execution_count": 2,
   "id": "706693bc-3fa3-47e0-a0fd-6e94a9be8685",
   "metadata": {},
   "outputs": [],
   "source": [
    "import sqlite3\n",
    "\n",
    "# Connect to the database or create it if it doesn't exist\n",
    "conn = sqlite3.connect('books.db')\n",
    "\n",
    "# Create a cursor object to execute SQL commands\n",
    "cursor = conn.cursor()\n",
    "\n",
    "# Create the table with the specified fields\n",
    "cursor.execute('''CREATE TABLE books\n",
    "                  (title text, author text, year integer)''')\n",
    "\n",
    "# Commit the changes \n",
    "conn.commit()\n"
   ]
  },
  {
   "cell_type": "code",
   "execution_count": 3,
   "id": "aac89f58-bff5-4331-a34b-69605ef9a310",
   "metadata": {},
   "outputs": [],
   "source": [
    "# Open the CSV file and create a DictReader object\n",
    "with open('books2.csv', 'r', encoding='utf-8-sig') as file:\n",
    "    csv_reader = csv.DictReader(file)\n",
    "\n",
    "    # Loop through each row in the CSV file and insert it into the \"books\" table\n",
    "    for row in csv_reader:\n",
    "        title = row['title']\n",
    "        author = row['author']\n",
    "        year = int(row['year'])\n",
    "        \n",
    "        cursor.execute('''INSERT INTO books (title, author, year)\n",
    "                          VALUES (?, ?, ?)''', (title, author, year))\n",
    "\n",
    "    # Commit the changes\n",
    "    conn.commit()\n"
   ]
  },
  {
   "cell_type": "code",
   "execution_count": 4,
   "id": "b36ecdd9-ff6e-4c27-bb21-7a61d35f969d",
   "metadata": {},
   "outputs": [
    {
     "name": "stdout",
     "output_type": "stream",
     "text": [
      "Perdido Street Station\n",
      "Small Gods\n",
      "The Spellman Files\n",
      "The Weirdstone of Brisingamen\n",
      "Thud!\n"
     ]
    }
   ],
   "source": [
    "# Execute a SELECT statement to retrieve the titles in alphabetical order\n",
    "cursor.execute(\"SELECT title FROM books ORDER BY title ASC\")\n",
    "\n",
    "# Fetch all the rows returned by the SELECT statement\n",
    "rows = cursor.fetchall()\n",
    "\n",
    "# Print the titles\n",
    "for row in rows:\n",
    "    print(row[0])\n"
   ]
  },
  {
   "cell_type": "code",
   "execution_count": 5,
   "id": "0e34fa74-aaa7-438e-920b-20330ec714bc",
   "metadata": {},
   "outputs": [
    {
     "name": "stdout",
     "output_type": "stream",
     "text": [
      "('The Weirdstone of Brisingamen', 'Alan Garner', 1960)\n",
      "('Small Gods', 'Terry Pratchett', 1992)\n",
      "('Perdido Street Station', 'China Miéville', 2000)\n",
      "('Thud!', 'Terry Pratchett', 2005)\n",
      "('The Spellman Files', 'Lisa Lutz', 2007)\n"
     ]
    }
   ],
   "source": [
    "# Execute a SELECT statement to retrieve all columns, ordered by year of publication\n",
    "cursor.execute(\"SELECT * FROM books ORDER BY year ASC\")\n",
    "\n",
    "# Fetch all the rows returned by the SELECT statement\n",
    "rows = cursor.fetchall()\n",
    "\n",
    "# Print the rows\n",
    "for row in rows:\n",
    "    print(row)\n",
    "\n",
    "# Close the connection to the database\n",
    "conn.close()"
   ]
  },
  {
   "cell_type": "code",
   "execution_count": 6,
   "id": "0a315cf9-1450-443a-b9a7-4296007061a3",
   "metadata": {},
   "outputs": [
    {
     "name": "stdout",
     "output_type": "stream",
     "text": [
      "Perdido Street Station\n",
      "Small Gods\n",
      "The Spellman Files\n",
      "The Weirdstone of Brisingamen\n",
      "Thud!\n"
     ]
    }
   ],
   "source": [
    "from sqlalchemy import create_engine, Table, MetaData, select\n",
    "\n",
    "# Connect to the database\n",
    "engine = create_engine('sqlite:///books.db')\n",
    "metadata = MetaData()\n",
    "books = Table('books', metadata, autoload=True, autoload_with=engine)\n",
    "\n",
    "# Create a SELECT statement to retrieve the titles in alphabetical order\n",
    "stmt = select([books.c.title]).order_by(books.c.title.asc())\n",
    "\n",
    "# Execute the SELECT statement\n",
    "with engine.connect() as conn:\n",
    "    results = conn.execute(stmt).fetchall()\n",
    "\n",
    "# Print the titles\n",
    "for row in results:\n",
    "    print(row[0])\n"
   ]
  }
 ],
 "metadata": {
  "kernelspec": {
   "display_name": "Python 3 (ipykernel)",
   "language": "python",
   "name": "python3"
  },
  "language_info": {
   "codemirror_mode": {
    "name": "ipython",
    "version": 3
   },
   "file_extension": ".py",
   "mimetype": "text/x-python",
   "name": "python",
   "nbconvert_exporter": "python",
   "pygments_lexer": "ipython3",
   "version": "3.9.13"
  }
 },
 "nbformat": 4,
 "nbformat_minor": 5
}
